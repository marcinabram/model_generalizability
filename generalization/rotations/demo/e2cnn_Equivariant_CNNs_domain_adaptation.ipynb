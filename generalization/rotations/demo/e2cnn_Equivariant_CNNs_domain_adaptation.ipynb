{
  "cells": [
    {
      "cell_type": "code",
      "source": [
        "pip install e2cnn"
      ],
      "metadata": {
        "colab": {
          "base_uri": "https://localhost:8080/"
        },
        "id": "p1oi_46WGQH2",
        "outputId": "3ca8860d-ab46-418e-a0e2-d27a792b8cf4"
      },
      "execution_count": null,
      "outputs": [
        {
          "output_type": "stream",
          "name": "stdout",
          "text": [
            "Looking in indexes: https://pypi.org/simple, https://us-python.pkg.dev/colab-wheels/public/simple/\n",
            "Collecting e2cnn\n",
            "  Downloading e2cnn-0.2.1-py3-none-any.whl (224 kB)\n",
            "\u001b[K     |████████████████████████████████| 224 kB 27.3 MB/s \n",
            "\u001b[?25hRequirement already satisfied: sympy in /usr/local/lib/python3.7/dist-packages (from e2cnn) (1.7.1)\n",
            "Requirement already satisfied: torch in /usr/local/lib/python3.7/dist-packages (from e2cnn) (1.11.0+cu113)\n",
            "Requirement already satisfied: scipy in /usr/local/lib/python3.7/dist-packages (from e2cnn) (1.4.1)\n",
            "Requirement already satisfied: numpy in /usr/local/lib/python3.7/dist-packages (from e2cnn) (1.21.6)\n",
            "Requirement already satisfied: mpmath>=0.19 in /usr/local/lib/python3.7/dist-packages (from sympy->e2cnn) (1.2.1)\n",
            "Requirement already satisfied: typing-extensions in /usr/local/lib/python3.7/dist-packages (from torch->e2cnn) (4.1.1)\n",
            "Installing collected packages: e2cnn\n",
            "Successfully installed e2cnn-0.2.1\n"
          ]
        }
      ]
    },
    {
      "cell_type": "code",
      "execution_count": null,
      "metadata": {
        "id": "nLU75uJ6vKD3"
      },
      "outputs": [],
      "source": [
        "import torch\n",
        "import torch.nn as nn\n",
        "import torchvision\n",
        "import torchvision.transforms as transforms\n",
        "import numpy as np\n",
        "import torchvision.transforms.functional as F\n",
        "import matplotlib.pyplot as plt\n",
        "from torch.utils.data import random_split\n",
        "from torchvision.transforms import Resize\n",
        "from torchvision.transforms import ToTensor\n",
        "from torchvision.transforms import Pad\n",
        "from PIL import Image\n",
        "from torchvision.transforms import RandomRotation\n",
        "\n",
        "from e2cnn import gspaces\n",
        "import e2cnn\n",
        "\n",
        "# from ray import tune\n",
        "# from ray.tune import CLIReporter\n",
        "# from ray.tune.schedulers import ASHAScheduler\n",
        "# from functools import partial"
      ]
    },
    {
      "cell_type": "code",
      "execution_count": null,
      "metadata": {
        "colab": {
          "base_uri": "https://localhost:8080/"
        },
        "id": "ixoR_PjmvOmz",
        "outputId": "f757bf1e-924a-4d62-d849-1713d83e8723"
      },
      "outputs": [
        {
          "output_type": "execute_result",
          "data": {
            "text/plain": [
              "device(type='cuda')"
            ]
          },
          "metadata": {},
          "execution_count": 3
        }
      ],
      "source": [
        "# Device configuration\n",
        "device = torch.device('cuda' if torch.cuda.is_available() else 'cpu')\n",
        "device"
      ]
    },
    {
      "cell_type": "code",
      "source": [
        "class Reshape(object):\n",
        "    def __init__(self):\n",
        "      None\n",
        "\n",
        "\n",
        "    def __call__(self, img):\n",
        "      return img[0,:,:].reshape(1, 1, 29, 29)\n",
        "\n",
        "\n",
        "    def __repr__(self):\n",
        "        return \"custom augmentation\""
      ],
      "metadata": {
        "id": "ASBd8gYXRmz8"
      },
      "execution_count": null,
      "outputs": []
    },
    {
      "cell_type": "code",
      "execution_count": null,
      "metadata": {
        "id": "Pxuxx3alvTki",
        "colab": {
          "base_uri": "https://localhost:8080/"
        },
        "outputId": "a143a1e5-6da2-4670-8eb4-cd784a4deec8"
      },
      "outputs": [
        {
          "output_type": "stream",
          "name": "stderr",
          "text": [
            "/usr/local/lib/python3.7/dist-packages/torchvision/transforms/transforms.py:1293: UserWarning: The parameter 'resample' is deprecated since 0.12 and will be removed 0.14. Please use 'interpolation' instead.\n",
            "  \"The parameter 'resample' is deprecated since 0.12 and will be removed 0.14. \"\n"
          ]
        }
      ],
      "source": [
        "resize1 = Resize(87)\n",
        "resize2 = Resize(29)\n",
        "pad = Pad((0, 0, 1, 1), fill=0)\n",
        "totensor = ToTensor()\n",
        "train_transform = transforms.Compose([                            \n",
        "    # transforms.ToTensor(),\n",
        "    # MaskPixels(mask),\n",
        "    # transforms.RandomRotation(42),\n",
        "    transforms.Grayscale(),\n",
        "    transforms.CenterCrop(28),\n",
        "    pad,\n",
        "    resize1,\n",
        "    RandomRotation(180, resample=Image.BILINEAR, expand=False),\n",
        "    resize2,\n",
        "    totensor,\n",
        "    ])\n",
        "\n",
        "test_transform = transforms.Compose([\n",
        "    # transforms.ToTensor(),\n",
        "    # MaskPixels(mask)\n",
        "    transforms.Grayscale(),\n",
        "    transforms.CenterCrop(28),\n",
        "    pad,\n",
        "    totensor,\n",
        "    ])"
      ]
    },
    {
      "cell_type": "code",
      "execution_count": null,
      "metadata": {
        "id": "0UlPUMPQK0h6"
      },
      "outputs": [],
      "source": [
        "!rm -rf data"
      ]
    },
    {
      "cell_type": "code",
      "execution_count": null,
      "metadata": {
        "colab": {
          "base_uri": "https://localhost:8080/",
          "height": 101,
          "referenced_widgets": [
            "08cb328b71c54853a82931fa6f62fd9c",
            "37afed8abbb14dfd8d5e85af10c3180b",
            "f87ded78e130434babeb677a85d8fd64",
            "e5c46567363d48188aac724973c1803d",
            "1e78ba57195541cdae21e0882d550b5b",
            "3ecf05379380485780f78d4390e43238",
            "a919435c20a941039292c438db355454",
            "9191b4f6b4da46e8aca0fe3c18c60986",
            "72d93f651e3140238bfa3361c7419656",
            "4f743cb09c764825947fb94fd85bda77",
            "d7b6f600d7ee45f99cba6333f1f98fdb"
          ]
        },
        "id": "LjBohhY2vWGR",
        "outputId": "f47632a0-f546-47b3-f7a3-7a36dd2382cb"
      },
      "outputs": [
        {
          "output_type": "stream",
          "name": "stdout",
          "text": [
            "Downloading https://www.cs.toronto.edu/~kriz/cifar-10-python.tar.gz to data/cifar-10-python.tar.gz\n"
          ]
        },
        {
          "output_type": "display_data",
          "data": {
            "text/plain": [
              "  0%|          | 0/170498071 [00:00<?, ?it/s]"
            ],
            "application/vnd.jupyter.widget-view+json": {
              "version_major": 2,
              "version_minor": 0,
              "model_id": "08cb328b71c54853a82931fa6f62fd9c"
            }
          },
          "metadata": {}
        },
        {
          "output_type": "stream",
          "name": "stdout",
          "text": [
            "Extracting data/cifar-10-python.tar.gz to data/\n",
            "Files already downloaded and verified\n"
          ]
        }
      ],
      "source": [
        "train_dataset = torchvision.datasets.CIFAR10(root='data/',\n",
        "                                             train=True, \n",
        "                                             transform=train_transform,\n",
        "                                             download=True)\n",
        "\n",
        "test_dataset = torchvision.datasets.CIFAR10(root='data/',\n",
        "                                            train=False, \n",
        "                                            transform=test_transform,\n",
        "                                            download=True)\n",
        "\n",
        "test_abs = int(len(train_dataset) * 0.8)\n",
        "train_subset, val_subset = random_split(train_dataset, [test_abs, len(train_dataset) - test_abs])\n",
        "\n",
        "# Data loader\n",
        "train_loader = torch.utils.data.DataLoader(dataset=train_subset,\n",
        "                                           batch_size=50, \n",
        "                                           shuffle=True)\n",
        "\n",
        "val_loader = torch.utils.data.DataLoader(dataset=val_subset,\n",
        "                                           batch_size=50, \n",
        "                                           shuffle=True)\n",
        "\n",
        "test_loader = torch.utils.data.DataLoader(dataset=test_dataset,\n",
        "                                          batch_size=50, \n",
        "                                          shuffle=False)\n"
      ]
    },
    {
      "cell_type": "code",
      "execution_count": null,
      "metadata": {
        "id": "I-3TCeRpwKzw"
      },
      "outputs": [],
      "source": [
        "class C8SteerableCNN(torch.nn.Module):\n",
        "    \n",
        "    def __init__(self, n_classes=10):\n",
        "        \n",
        "        super(C8SteerableCNN, self).__init__()\n",
        "        \n",
        "        # the model is equivariant under rotations by 45 degrees, modelled by C8\n",
        "        self.r2_act = gspaces.Rot2dOnR2(N=8)\n",
        "        \n",
        "        # the input image is a scalar field, corresponding to the trivial representation\n",
        "        in_type = e2cnn.nn.FieldType(self.r2_act, [self.r2_act.trivial_repr])\n",
        "        \n",
        "        # we store the input type for wrapping the images into a geometric tensor during the forward pass\n",
        "        self.input_type = in_type\n",
        "        \n",
        "        # convolution 1\n",
        "        # first specify the output type of the convolutional layer\n",
        "        # we choose 24 feature fields, each transforming under the regular representation of C8\n",
        "        out_type = e2cnn.nn.FieldType(self.r2_act, 24*[self.r2_act.regular_repr])\n",
        "        self.block1 = e2cnn.nn.SequentialModule(\n",
        "            e2cnn.nn.MaskModule(in_type, 29, margin=1),\n",
        "            e2cnn.nn.R2Conv(in_type, out_type, kernel_size=7, padding=1, bias=False),\n",
        "            e2cnn.nn.InnerBatchNorm(out_type),\n",
        "            e2cnn.nn.ReLU(out_type, inplace=True)\n",
        "        )\n",
        "        \n",
        "        # convolution 2\n",
        "        # the old output type is the input type to the next layer\n",
        "        in_type = self.block1.out_type\n",
        "        # the output type of the second convolution layer are 48 regular feature fields of C8\n",
        "        out_type = e2cnn.nn.FieldType(self.r2_act, 48*[self.r2_act.regular_repr])\n",
        "        self.block2 = e2cnn.nn.SequentialModule(\n",
        "            e2cnn.nn.R2Conv(in_type, out_type, kernel_size=5, padding=2, bias=False),\n",
        "            e2cnn.nn.InnerBatchNorm(out_type),\n",
        "            e2cnn.nn.ReLU(out_type, inplace=True)\n",
        "        )\n",
        "        self.pool1 = e2cnn.nn.SequentialModule(\n",
        "            e2cnn.nn.PointwiseAvgPoolAntialiased(out_type, sigma=0.66, stride=2)\n",
        "        )\n",
        "        \n",
        "        # convolution 3\n",
        "        # the old output type is the input type to the next layer\n",
        "        in_type = self.block2.out_type\n",
        "        # the output type of the third convolution layer are 48 regular feature fields of C8\n",
        "        out_type = e2cnn.nn.FieldType(self.r2_act, 48*[self.r2_act.regular_repr])\n",
        "        self.block3 = e2cnn.nn.SequentialModule(\n",
        "            e2cnn.nn.R2Conv(in_type, out_type, kernel_size=5, padding=2, bias=False),\n",
        "            e2cnn.nn.InnerBatchNorm(out_type),\n",
        "            e2cnn.nn.ReLU(out_type, inplace=True)\n",
        "        )\n",
        "        \n",
        "        # convolution 4\n",
        "        # the old output type is the input type to the next layer\n",
        "        in_type = self.block3.out_type\n",
        "        # the output type of the fourth convolution layer are 96 regular feature fields of C8\n",
        "        out_type = e2cnn.nn.FieldType(self.r2_act, 96*[self.r2_act.regular_repr])\n",
        "        self.block4 = e2cnn.nn.SequentialModule(\n",
        "            e2cnn.nn.R2Conv(in_type, out_type, kernel_size=5, padding=2, bias=False),\n",
        "            e2cnn.nn.InnerBatchNorm(out_type),\n",
        "            e2cnn.nn.ReLU(out_type, inplace=True)\n",
        "        )\n",
        "        self.pool2 = e2cnn.nn.SequentialModule(\n",
        "            e2cnn.nn.PointwiseAvgPoolAntialiased(out_type, sigma=0.66, stride=2)\n",
        "        )\n",
        "        \n",
        "        # convolution 5\n",
        "        # the old output type is the input type to the next layer\n",
        "        in_type = self.block4.out_type\n",
        "        # the output type of the fifth convolution layer are 96 regular feature fields of C8\n",
        "        out_type = e2cnn.nn.FieldType(self.r2_act, 96*[self.r2_act.regular_repr])\n",
        "        self.block5 = e2cnn.nn.SequentialModule(\n",
        "            e2cnn.nn.R2Conv(in_type, out_type, kernel_size=5, padding=2, bias=False),\n",
        "            e2cnn.nn.InnerBatchNorm(out_type),\n",
        "            e2cnn.nn.ReLU(out_type, inplace=True)\n",
        "        )\n",
        "        \n",
        "        # convolution 6\n",
        "        # the old output type is the input type to the next layer\n",
        "        in_type = self.block5.out_type\n",
        "        # the output type of the sixth convolution layer are 64 regular feature fields of C8\n",
        "        out_type = e2cnn.nn.FieldType(self.r2_act, 64*[self.r2_act.regular_repr])\n",
        "        self.block6 = e2cnn.nn.SequentialModule(\n",
        "            e2cnn.nn.R2Conv(in_type, out_type, kernel_size=5, padding=1, bias=False),\n",
        "            e2cnn.nn.InnerBatchNorm(out_type),\n",
        "            e2cnn.nn.ReLU(out_type, inplace=True)\n",
        "        )\n",
        "        self.pool3 = e2cnn.nn.PointwiseAvgPoolAntialiased(out_type, sigma=0.66, stride=1, padding=0)\n",
        "        \n",
        "        self.gpool = e2cnn.nn.GroupPooling(out_type)\n",
        "        \n",
        "        # number of output channels\n",
        "        c = self.gpool.out_type.size\n",
        "        \n",
        "        # Fully Connected\n",
        "        self.fully_net = torch.nn.Sequential(\n",
        "            torch.nn.Linear(c, 64),\n",
        "            torch.nn.BatchNorm1d(64),\n",
        "            torch.nn.ELU(inplace=True),\n",
        "            torch.nn.Linear(64, n_classes),\n",
        "        )\n",
        "    \n",
        "    def forward(self, input: torch.Tensor):\n",
        "        # wrap the input tensor in a GeometricTensor\n",
        "        # (associate it with the input type)\n",
        "        x = e2cnn.nn.GeometricTensor(input, self.input_type)\n",
        "        \n",
        "        # apply each equivariant block\n",
        "        \n",
        "        # Each layer has an input and an output type\n",
        "        # A layer takes a GeometricTensor in input.\n",
        "        # This tensor needs to be associated with the same representation of the layer's input type\n",
        "        #\n",
        "        # The Layer outputs a new GeometricTensor, associated with the layer's output type.\n",
        "        # As a result, consecutive layers need to have matching input/output types\n",
        "        x = self.block1(x)\n",
        "        x = self.block2(x)\n",
        "        x = self.pool1(x)\n",
        "        \n",
        "        x = self.block3(x)\n",
        "        x = self.block4(x)\n",
        "        x = self.pool2(x)\n",
        "        \n",
        "        x = self.block5(x)\n",
        "        x = self.block6(x)\n",
        "        \n",
        "        # pool over the spatial dimensions\n",
        "        x = self.pool3(x)\n",
        "        \n",
        "        # pool over the group\n",
        "        x = self.gpool(x)\n",
        "\n",
        "        # unwrap the output GeometricTensor\n",
        "        # (take the Pytorch tensor and discard the associated representation)\n",
        "        x = x.tensor\n",
        "        \n",
        "        # classify with the final fully connected layers)\n",
        "        x = self.fully_net(x.reshape(x.shape[0], -1))\n",
        "        \n",
        "        return x"
      ]
    },
    {
      "cell_type": "code",
      "execution_count": null,
      "metadata": {
        "id": "UDiWKfc2wNb_",
        "colab": {
          "base_uri": "https://localhost:8080/"
        },
        "outputId": "f7021b67-bc1b-4225-c56b-ecf7131877b3"
      },
      "outputs": [
        {
          "output_type": "stream",
          "name": "stderr",
          "text": [
            "/usr/local/lib/python3.7/dist-packages/e2cnn/nn/modules/r2_conv/basisexpansion_singleblock.py:80: UserWarning: indexing with dtype torch.uint8 is now deprecated, please use a dtype torch.bool instead. (Triggered internally at  ../aten/src/ATen/native/IndexingUtils.h:28.)\n",
            "  full_mask[mask] = norms.to(torch.uint8)\n"
          ]
        }
      ],
      "source": [
        "model = C8SteerableCNN().to(device)"
      ]
    },
    {
      "cell_type": "code",
      "source": [
        "def test_model(model: torch.nn.Module, x: Image):\n",
        "    # evaluate the `model` on 8 rotated versions of the input image `x`\n",
        "    model.eval()\n",
        "    \n",
        "    wrmup = model(torch.randn(1, 1, 29, 29).to(device))\n",
        "    del wrmup\n",
        "    \n",
        "    x = resize1(pad(x))\n",
        "    \n",
        "    print()\n",
        "    print('##########################################################################################')\n",
        "    header = 'angle |  ' + '  '.join([\"{:6d}\".format(d) for d in range(10)])\n",
        "    print(header)\n",
        "    with torch.no_grad():\n",
        "        for r in range(8):\n",
        "            x_transformed = totensor(resize2(x.rotate(r*45., Image.BILINEAR))).reshape(1, 1, 29, 29)\n",
        "            x_transformed = x_transformed.to(device)\n",
        "\n",
        "            y = model(x_transformed)\n",
        "            y = y.to('cpu').numpy().squeeze()\n",
        "            \n",
        "            angle = r * 45\n",
        "            print(\"{:5d} : {}\".format(angle, y))\n",
        "    print('##########################################################################################')\n",
        "    print()"
      ],
      "metadata": {
        "id": "7dpufb2oEbz7"
      },
      "execution_count": null,
      "outputs": []
    },
    {
      "cell_type": "code",
      "source": [
        "x, y = next(iter(train_loader))"
      ],
      "metadata": {
        "id": "eomhLTbGFh6A"
      },
      "execution_count": null,
      "outputs": []
    },
    {
      "cell_type": "code",
      "source": [
        "# evaluate the model\n",
        "test_model(model, x)"
      ],
      "metadata": {
        "id": "Rh49pecrGFQs"
      },
      "execution_count": null,
      "outputs": []
    },
    {
      "cell_type": "code",
      "source": [
        "x.shape"
      ],
      "metadata": {
        "id": "a854NouPFrdF"
      },
      "execution_count": null,
      "outputs": []
    },
    {
      "cell_type": "code",
      "execution_count": null,
      "metadata": {
        "id": "-ilbWgwJcgqA"
      },
      "outputs": [],
      "source": [
        "# Hyper-parameters\n",
        "# num_epochs = 80\n",
        "# learning_rate = 0.001\n",
        "\n",
        "num_epochs = 20\n",
        "learning_rate = 0.001"
      ]
    },
    {
      "cell_type": "code",
      "execution_count": null,
      "metadata": {
        "id": "1P7KLXRBwP7g"
      },
      "outputs": [],
      "source": [
        "# Loss and optimizer\n",
        "criterion = nn.CrossEntropyLoss()\n",
        "optimizer = torch.optim.Adam(model.parameters(), lr=learning_rate)\n",
        "\n",
        "# For updating learning rate\n",
        "def update_lr(optimizer, lr):    \n",
        "    for param_group in optimizer.param_groups:\n",
        "        param_group['lr'] = lr"
      ]
    },
    {
      "cell_type": "code",
      "execution_count": null,
      "metadata": {
        "id": "K3wlwKd7wT_Q",
        "colab": {
          "base_uri": "https://localhost:8080/"
        },
        "outputId": "47ab382d-b76a-4f89-cb61-52b6a6bfc1fe"
      },
      "outputs": [
        {
          "output_type": "stream",
          "name": "stdout",
          "text": [
            "Epoch [1/20], Step [500/800] Loss: 1.5343\n",
            "Epoch [2/20], Step [500/800] Loss: 1.2315\n",
            "Epoch [3/20], Step [500/800] Loss: 0.9361\n",
            "Epoch [4/20], Step [500/800] Loss: 1.0421\n",
            "Epoch [5/20], Step [500/800] Loss: 0.6653\n",
            "Epoch [6/20], Step [500/800] Loss: 0.3768\n",
            "Epoch [7/20], Step [500/800] Loss: 0.5775\n",
            "Epoch [8/20], Step [500/800] Loss: 0.5253\n",
            "Epoch [9/20], Step [500/800] Loss: 0.3388\n",
            "Epoch [10/20], Step [500/800] Loss: 0.2801\n",
            "Epoch [11/20], Step [500/800] Loss: 0.2972\n",
            "Epoch [12/20], Step [500/800] Loss: 0.3394\n",
            "Epoch [13/20], Step [500/800] Loss: 0.1706\n",
            "Epoch [14/20], Step [500/800] Loss: 0.1248\n",
            "Epoch [15/20], Step [500/800] Loss: 0.2158\n",
            "Epoch [16/20], Step [500/800] Loss: 0.1235\n",
            "Epoch [17/20], Step [500/800] Loss: 0.1504\n",
            "Epoch [18/20], Step [500/800] Loss: 0.1577\n",
            "Epoch [19/20], Step [500/800] Loss: 0.2118\n",
            "Epoch [20/20], Step [500/800] Loss: 0.0732\n"
          ]
        }
      ],
      "source": [
        "# Train the model\n",
        "total_step = len(train_loader)\n",
        "curr_lr = learning_rate\n",
        "for epoch in range(num_epochs):\n",
        "    for i, (images, labels) in enumerate(train_loader):\n",
        "\n",
        "\n",
        "        images = images.to(device)\n",
        "        labels = labels.to(device)\n",
        "\n",
        "        # Forward pass\n",
        "        outputs = model(images)\n",
        "        loss = criterion(outputs, labels)\n",
        "\n",
        "        # Backward and optimize\n",
        "        optimizer.zero_grad()\n",
        "        loss.backward(retain_graph=True)\n",
        "        optimizer.step()\n",
        "        if (i+1) % 500 == 0:\n",
        "            print (\"Epoch [{}/{}], Step [{}/{}] Loss: {:.4f}\"\n",
        "                   .format(epoch+1, num_epochs, i+1, total_step, loss.item()))\n",
        "\n",
        "    # # Decay learning rate\n",
        "    # if (epoch+1) % 20 == 0:\n",
        "    #     curr_lr /= 3\n",
        "    #     update_lr(optimizer, curr_lr)"
      ]
    },
    {
      "cell_type": "code",
      "execution_count": null,
      "metadata": {
        "id": "xz30-Vq1wYgI"
      },
      "outputs": [],
      "source": [
        "model.eval()\n",
        "with torch.no_grad():\n",
        "    angle_arr = []\n",
        "    accuracy_arr = []\n",
        "    for angle in range(0,370,10):\n",
        "      correct = 0\n",
        "      total = 0\n",
        "      for images, labels in test_loader:\n",
        "        imgs = F.rotate(images, angle)\n",
        "        imgs = imgs.to(device)\n",
        "        labels = labels.to(device)\n",
        "        outputs = model(imgs)\n",
        "        _, predicted = torch.max(outputs.data, 1)\n",
        "        total += labels.size(0)\n",
        "        correct += (predicted == labels).sum().item()\n",
        "      # print(angle)\n",
        "      # print(correct,total)\n",
        "      angle_arr.append(angle)\n",
        "      accuracyVal = 100 * correct / total\n",
        "      accuracy_arr.append(accuracyVal)\n",
        "      # import torchvision.transforms as T\n",
        "      # from PIL import Image\n",
        "      # transform = T.ToPILImage()\n",
        "      # display(transform(images[4]),transform(imgs[4]))\n",
        "      # print()"
      ]
    },
    {
      "cell_type": "code",
      "execution_count": null,
      "metadata": {
        "colab": {
          "base_uri": "https://localhost:8080/",
          "height": 282
        },
        "id": "eusr5kyzkF7y",
        "outputId": "fe3b58ec-c6e6-4f65-ce8f-4750349eccfc"
      },
      "outputs": [
        {
          "output_type": "execute_result",
          "data": {
            "text/plain": [
              "[<matplotlib.lines.Line2D at 0x7fa8e61e6890>]"
            ]
          },
          "metadata": {},
          "execution_count": 16
        },
        {
          "output_type": "display_data",
          "data": {
            "text/plain": [
              "<Figure size 432x288 with 1 Axes>"
            ],
            "image/png": "[encoded data removed]"
          },
          "metadata": {
            "needs_background": "light"
          }
        }
      ],
      "source": [
        "plt.plot(angle_arr, accuracy_arr, '-ok')\n",
        "# plt.gca().invert_xaxis()"
      ]
    }
  ],
  "metadata": {
    "accelerator": "GPU",
    "colab": {
      "collapsed_sections": [
        "9mphvKIRzIGV"
      ],
      "provenance": [],
      "toc_visible": true
    },
    "gpuClass": "standard",
    "kernelspec": {
      "display_name": "Python 3",
      "name": "python3"
    },
    "language_info": {
      "name": "python"
    },
    "widgets": {
      "application/vnd.jupyter.widget-state+json": {
        "08cb328b71c54853a82931fa6f62fd9c": {
          "model_module": "@jupyter-widgets/controls",
          "model_name": "HBoxModel",
          "model_module_version": "1.5.0",
          "state": {
            "_dom_classes": [],
            "_model_module": "@jupyter-widgets/controls",
            "_model_module_version": "1.5.0",
            "_model_name": "HBoxModel",
            "_view_count": null,
            "_view_module": "@jupyter-widgets/controls",
            "_view_module_version": "1.5.0",
            "_view_name": "HBoxView",
            "box_style": "",
            "children": [
              "IPY_MODEL_37afed8abbb14dfd8d5e85af10c3180b",
              "IPY_MODEL_f87ded78e130434babeb677a85d8fd64",
              "IPY_MODEL_e5c46567363d48188aac724973c1803d"
            ],
            "layout": "IPY_MODEL_1e78ba57195541cdae21e0882d550b5b"
          }
        },
        "37afed8abbb14dfd8d5e85af10c3180b": {
          "model_module": "@jupyter-widgets/controls",
          "model_name": "HTMLModel",
          "model_module_version": "1.5.0",
          "state": {
            "_dom_classes": [],
            "_model_module": "@jupyter-widgets/controls",
            "_model_module_version": "1.5.0",
            "_model_name": "HTMLModel",
            "_view_count": null,
            "_view_module": "@jupyter-widgets/controls",
            "_view_module_version": "1.5.0",
            "_view_name": "HTMLView",
            "description": "",
            "description_tooltip": null,
            "layout": "IPY_MODEL_3ecf05379380485780f78d4390e43238",
            "placeholder": "​",
            "style": "IPY_MODEL_a919435c20a941039292c438db355454",
            "value": ""
          }
        },
        "f87ded78e130434babeb677a85d8fd64": {
          "model_module": "@jupyter-widgets/controls",
          "model_name": "FloatProgressModel",
          "model_module_version": "1.5.0",
          "state": {
            "_dom_classes": [],
            "_model_module": "@jupyter-widgets/controls",
            "_model_module_version": "1.5.0",
            "_model_name": "FloatProgressModel",
            "_view_count": null,
            "_view_module": "@jupyter-widgets/controls",
            "_view_module_version": "1.5.0",
            "_view_name": "ProgressView",
            "bar_style": "success",
            "description": "",
            "description_tooltip": null,
            "layout": "IPY_MODEL_9191b4f6b4da46e8aca0fe3c18c60986",
            "max": 170498071,
            "min": 0,
            "orientation": "horizontal",
            "style": "IPY_MODEL_72d93f651e3140238bfa3361c7419656",
            "value": 170498071
          }
        },
        "e5c46567363d48188aac724973c1803d": {
          "model_module": "@jupyter-widgets/controls",
          "model_name": "HTMLModel",
          "model_module_version": "1.5.0",
          "state": {
            "_dom_classes": [],
            "_model_module": "@jupyter-widgets/controls",
            "_model_module_version": "1.5.0",
            "_model_name": "HTMLModel",
            "_view_count": null,
            "_view_module": "@jupyter-widgets/controls",
            "_view_module_version": "1.5.0",
            "_view_name": "HTMLView",
            "description": "",
            "description_tooltip": null,
            "layout": "IPY_MODEL_4f743cb09c764825947fb94fd85bda77",
            "placeholder": "​",
            "style": "IPY_MODEL_d7b6f600d7ee45f99cba6333f1f98fdb",
            "value": " 170499072/? [00:13&lt;00:00, 14090141.25it/s]"
          }
        },
        "1e78ba57195541cdae21e0882d550b5b": {
          "model_module": "@jupyter-widgets/base",
          "model_name": "LayoutModel",
          "model_module_version": "1.2.0",
          "state": {
            "_model_module": "@jupyter-widgets/base",
            "_model_module_version": "1.2.0",
            "_model_name": "LayoutModel",
            "_view_count": null,
            "_view_module": "@jupyter-widgets/base",
            "_view_module_version": "1.2.0",
            "_view_name": "LayoutView",
            "align_content": null,
            "align_items": null,
            "align_self": null,
            "border": null,
            "bottom": null,
            "display": null,
            "flex": null,
            "flex_flow": null,
            "grid_area": null,
            "grid_auto_columns": null,
            "grid_auto_flow": null,
            "grid_auto_rows": null,
            "grid_column": null,
            "grid_gap": null,
            "grid_row": null,
            "grid_template_areas": null,
            "grid_template_columns": null,
            "grid_template_rows": null,
            "height": null,
            "justify_content": null,
            "justify_items": null,
            "left": null,
            "margin": null,
            "max_height": null,
            "max_width": null,
            "min_height": null,
            "min_width": null,
            "object_fit": null,
            "object_position": null,
            "order": null,
            "overflow": null,
            "overflow_x": null,
            "overflow_y": null,
            "padding": null,
            "right": null,
            "top": null,
            "visibility": null,
            "width": null
          }
        },
        "3ecf05379380485780f78d4390e43238": {
          "model_module": "@jupyter-widgets/base",
          "model_name": "LayoutModel",
          "model_module_version": "1.2.0",
          "state": {
            "_model_module": "@jupyter-widgets/base",
            "_model_module_version": "1.2.0",
            "_model_name": "LayoutModel",
            "_view_count": null,
            "_view_module": "@jupyter-widgets/base",
            "_view_module_version": "1.2.0",
            "_view_name": "LayoutView",
            "align_content": null,
            "align_items": null,
            "align_self": null,
            "border": null,
            "bottom": null,
            "display": null,
            "flex": null,
            "flex_flow": null,
            "grid_area": null,
            "grid_auto_columns": null,
            "grid_auto_flow": null,
            "grid_auto_rows": null,
            "grid_column": null,
            "grid_gap": null,
            "grid_row": null,
            "grid_template_areas": null,
            "grid_template_columns": null,
            "grid_template_rows": null,
            "height": null,
            "justify_content": null,
            "justify_items": null,
            "left": null,
            "margin": null,
            "max_height": null,
            "max_width": null,
            "min_height": null,
            "min_width": null,
            "object_fit": null,
            "object_position": null,
            "order": null,
            "overflow": null,
            "overflow_x": null,
            "overflow_y": null,
            "padding": null,
            "right": null,
            "top": null,
            "visibility": null,
            "width": null
          }
        },
        "a919435c20a941039292c438db355454": {
          "model_module": "@jupyter-widgets/controls",
          "model_name": "DescriptionStyleModel",
          "model_module_version": "1.5.0",
          "state": {
            "_model_module": "@jupyter-widgets/controls",
            "_model_module_version": "1.5.0",
            "_model_name": "DescriptionStyleModel",
            "_view_count": null,
            "_view_module": "@jupyter-widgets/base",
            "_view_module_version": "1.2.0",
            "_view_name": "StyleView",
            "description_width": ""
          }
        },
        "9191b4f6b4da46e8aca0fe3c18c60986": {
          "model_module": "@jupyter-widgets/base",
          "model_name": "LayoutModel",
          "model_module_version": "1.2.0",
          "state": {
            "_model_module": "@jupyter-widgets/base",
            "_model_module_version": "1.2.0",
            "_model_name": "LayoutModel",
            "_view_count": null,
            "_view_module": "@jupyter-widgets/base",
            "_view_module_version": "1.2.0",
            "_view_name": "LayoutView",
            "align_content": null,
            "align_items": null,
            "align_self": null,
            "border": null,
            "bottom": null,
            "display": null,
            "flex": null,
            "flex_flow": null,
            "grid_area": null,
            "grid_auto_columns": null,
            "grid_auto_flow": null,
            "grid_auto_rows": null,
            "grid_column": null,
            "grid_gap": null,
            "grid_row": null,
            "grid_template_areas": null,
            "grid_template_columns": null,
            "grid_template_rows": null,
            "height": null,
            "justify_content": null,
            "justify_items": null,
            "left": null,
            "margin": null,
            "max_height": null,
            "max_width": null,
            "min_height": null,
            "min_width": null,
            "object_fit": null,
            "object_position": null,
            "order": null,
            "overflow": null,
            "overflow_x": null,
            "overflow_y": null,
            "padding": null,
            "right": null,
            "top": null,
            "visibility": null,
            "width": null
          }
        },
        "72d93f651e3140238bfa3361c7419656": {
          "model_module": "@jupyter-widgets/controls",
          "model_name": "ProgressStyleModel",
          "model_module_version": "1.5.0",
          "state": {
            "_model_module": "@jupyter-widgets/controls",
            "_model_module_version": "1.5.0",
            "_model_name": "ProgressStyleModel",
            "_view_count": null,
            "_view_module": "@jupyter-widgets/base",
            "_view_module_version": "1.2.0",
            "_view_name": "StyleView",
            "bar_color": null,
            "description_width": ""
          }
        },
        "4f743cb09c764825947fb94fd85bda77": {
          "model_module": "@jupyter-widgets/base",
          "model_name": "LayoutModel",
          "model_module_version": "1.2.0",
          "state": {
            "_model_module": "@jupyter-widgets/base",
            "_model_module_version": "1.2.0",
            "_model_name": "LayoutModel",
            "_view_count": null,
            "_view_module": "@jupyter-widgets/base",
            "_view_module_version": "1.2.0",
            "_view_name": "LayoutView",
            "align_content": null,
            "align_items": null,
            "align_self": null,
            "border": null,
            "bottom": null,
            "display": null,
            "flex": null,
            "flex_flow": null,
            "grid_area": null,
            "grid_auto_columns": null,
            "grid_auto_flow": null,
            "grid_auto_rows": null,
            "grid_column": null,
            "grid_gap": null,
            "grid_row": null,
            "grid_template_areas": null,
            "grid_template_columns": null,
            "grid_template_rows": null,
            "height": null,
            "justify_content": null,
            "justify_items": null,
            "left": null,
            "margin": null,
            "max_height": null,
            "max_width": null,
            "min_height": null,
            "min_width": null,
            "object_fit": null,
            "object_position": null,
            "order": null,
            "overflow": null,
            "overflow_x": null,
            "overflow_y": null,
            "padding": null,
            "right": null,
            "top": null,
            "visibility": null,
            "width": null
          }
        },
        "d7b6f600d7ee45f99cba6333f1f98fdb": {
          "model_module": "@jupyter-widgets/controls",
          "model_name": "DescriptionStyleModel",
          "model_module_version": "1.5.0",
          "state": {
            "_model_module": "@jupyter-widgets/controls",
            "_model_module_version": "1.5.0",
            "_model_name": "DescriptionStyleModel",
            "_view_count": null,
            "_view_module": "@jupyter-widgets/base",
            "_view_module_version": "1.2.0",
            "_view_name": "StyleView",
            "description_width": ""
          }
        }
      }
    }
  },
  "nbformat": 4,
  "nbformat_minor": 0
}